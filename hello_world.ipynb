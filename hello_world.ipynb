{
 "cells": [
  {
   "cell_type": "markdown",
   "source": [
    "# First steps with Python"
   ],
   "metadata": {
    "collapsed": false
   },
   "id": "78ad02fc25240458"
  },
  {
   "cell_type": "code",
   "outputs": [],
   "source": [
    "print('hello world')"
   ],
   "metadata": {
    "collapsed": false
   },
   "id": "734a8e92e8b7626b"
  },
  {
   "cell_type": "markdown",
   "source": [
    "## Jupyter notebooks and normal .py files"
   ],
   "metadata": {
    "collapsed": false
   },
   "id": "24ec99028f0f177e"
  }
 ],
 "metadata": {
  "kernelspec": {
   "display_name": "Python 3",
   "language": "python",
   "name": "python3"
  },
  "language_info": {
   "codemirror_mode": {
    "name": "ipython",
    "version": 2
   },
   "file_extension": ".py",
   "mimetype": "text/x-python",
   "name": "python",
   "nbconvert_exporter": "python",
   "pygments_lexer": "ipython2",
   "version": "2.7.6"
  }
 },
 "nbformat": 4,
 "nbformat_minor": 5
}
