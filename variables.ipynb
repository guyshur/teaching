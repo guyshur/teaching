{
 "cells": [
  {
   "cell_type": "markdown",
   "source": [
    "# Variables and assignment"
   ],
   "metadata": {
    "collapsed": false
   },
   "id": "19cb808af93cda8a"
  },
  {
   "cell_type": "markdown",
   "source": [
    "Why do we need variables?\n",
    "\n",
    "Variables are used to store data that can be used later in the program"
   ],
   "metadata": {
    "collapsed": false
   },
   "id": "fca8bbbf9b6db71c"
  },
  {
   "cell_type": "code",
   "outputs": [],
   "source": [
    "my_variable = 5 # this is a variable\n",
    "result = 9812 * 58324 # this is also a variable\n",
    "the_user_has_logged_in = True # this is also a variable"
   ],
   "metadata": {
    "collapsed": false
   },
   "id": "8752f70a362cb7a8"
  },
  {
   "cell_type": "markdown",
   "source": [
    "- They are used to store the output of an operation\n",
    "- They are used to keep track of the state of the program\n",
    "- They are used to make the code more readable\n",
    "- They are used to make the code more maintainable\n",
    "- They make the code more general\n",
    "- And much more\n",
    "\n",
    "In Python, variables are created by assigning a value to a name\n",
    "There are four basic types of variables in Python: int, float, string, and boolean"
   ],
   "metadata": {
    "collapsed": false
   },
   "id": "1235cc62792e87a4"
  },
  {
   "cell_type": "markdown",
   "source": [
    "int: short for integer (whole number)"
   ],
   "metadata": {
    "collapsed": false
   },
   "id": "7026f7c6f93abd06"
  },
  {
   "cell_type": "code",
   "execution_count": null,
   "id": "initial_id",
   "metadata": {
    "collapsed": true
   },
   "outputs": [],
   "source": [
    "my_number = 5\n",
    "print(my_number)"
   ]
  },
  {
   "cell_type": "markdown",
   "source": [
    "float: short for floating point (number with a decimal point)"
   ],
   "metadata": {
    "collapsed": false
   },
   "id": "3bf70384eb747045"
  },
  {
   "cell_type": "code",
   "outputs": [],
   "source": [
    "my_float = 5.0\n",
    "print(my_float)"
   ],
   "metadata": {
    "collapsed": false
   },
   "id": "39db0503c233ce76"
  },
  {
   "cell_type": "markdown",
   "source": [
    "string: a sequence of characters"
   ],
   "metadata": {
    "collapsed": false
   },
   "id": "6bbbf6f4a8ae01f5"
  },
  {
   "cell_type": "code",
   "outputs": [],
   "source": [
    "my_string = \"Hello, World!\"\n",
    "print(my_string)"
   ],
   "metadata": {
    "collapsed": false
   },
   "id": "840490d613b8844f"
  },
  {
   "cell_type": "markdown",
   "source": [
    "boolean: a binary value (True or False)"
   ],
   "metadata": {
    "collapsed": false
   },
   "id": "bea1b191686f149a"
  },
  {
   "cell_type": "code",
   "outputs": [],
   "source": [
    "my_boolean = True\n",
    "print(my_boolean)"
   ],
   "metadata": {
    "collapsed": false
   },
   "id": "fb188db638c9bc40"
  },
  {
   "cell_type": "markdown",
   "source": [
    "## Reassigning variables"
   ],
   "metadata": {
    "collapsed": false
   },
   "id": "326d2ca2a0dd5d5d"
  },
  {
   "cell_type": "code",
   "outputs": [],
   "source": [
    "my_number = 6\n",
    "print(my_number)"
   ],
   "metadata": {
    "collapsed": false
   },
   "id": "c56254f4a2ed78e"
  },
  {
   "cell_type": "code",
   "outputs": [],
   "source": [
    "my_number = my_float\n",
    "print(my_float)"
   ],
   "metadata": {
    "collapsed": false
   },
   "id": "5643b2bb533a1baa"
  },
  {
   "cell_type": "markdown",
   "source": [
    "## Operations"
   ],
   "metadata": {
    "collapsed": false
   },
   "id": "c0b0938b34728824"
  },
  {
   "cell_type": "markdown",
   "source": [
    "The four basic operations are + (addition), - (subtraction), * (multiplication), and / (division)"
   ],
   "metadata": {
    "collapsed": false
   },
   "id": "b7e6679269615b73"
  },
  {
   "cell_type": "code",
   "outputs": [],
   "source": [
    "a = 5\n",
    "b = 2\n",
    "print(a + b)\n",
    "print(a - b)\n",
    "print(a * b)\n",
    "print(a / b) # division always returns a float."
   ],
   "metadata": {
    "collapsed": false
   },
   "id": "aaddd30b78099537"
  }
 ],
 "metadata": {
  "kernelspec": {
   "display_name": "Python 3",
   "language": "python",
   "name": "python3"
  },
  "language_info": {
   "codemirror_mode": {
    "name": "ipython",
    "version": 2
   },
   "file_extension": ".py",
   "mimetype": "text/x-python",
   "name": "python",
   "nbconvert_exporter": "python",
   "pygments_lexer": "ipython2",
   "version": "2.7.6"
  }
 },
 "nbformat": 4,
 "nbformat_minor": 5
}
